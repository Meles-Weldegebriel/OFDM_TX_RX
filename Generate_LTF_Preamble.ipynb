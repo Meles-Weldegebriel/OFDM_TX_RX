{
 "cells": [
  {
   "cell_type": "code",
   "execution_count": 3,
   "id": "e70fef83-4f1a-4ae8-b216-23428dadccff",
   "metadata": {},
   "outputs": [
    {
     "name": "stdout",
     "output_type": "stream",
     "text": [
      "Saved preamble.mat with variable 'stf'.\n",
      "IQ samples shape: (320,)\n"
     ]
    }
   ],
   "source": [
    "import numpy as np\n",
    "import scipy.io\n",
    "\n",
    "def _bin(k, N):\n",
    "    return (k + N) % N\n",
    "\n",
    "def make_ltf_xcp2(Nfft=64, used_lo=-26, used_hi=26, Ncp=16, seed=7):\n",
    "    rng = np.random.default_rng(seed)\n",
    "    X = np.zeros(Nfft, dtype=np.complex64)\n",
    "    for k in range(used_lo, used_hi + 1):\n",
    "        if k == 0:\n",
    "            continue\n",
    "        X[_bin(k, Nfft)] = 1 - 2 * rng.integers(0, 2)  # ±1 BPSK\n",
    "\n",
    "    # CP-less LTF\n",
    "    x_no_cp = np.fft.ifft(np.fft.ifftshift(X)).astype(np.complex64)\n",
    "    x_no_cp /= np.sqrt(np.mean(np.abs(x_no_cp)**2) + 1e-12)\n",
    "\n",
    "    # Add CP\n",
    "    cp = x_no_cp[-Ncp:]\n",
    "    x_cp1 = np.concatenate([cp, x_no_cp])\n",
    "    x_cp2 = np.concatenate([x_cp1, x_cp1])\n",
    "    return x_cp2.astype(np.complex64)\n",
    "\n",
    "# Step 1: Generate LTF (CP+LTF, CP+LTF)\n",
    "ltf_sequence = make_ltf_xcp2(Nfft=64, used_lo=-26, used_hi=26, Ncp=16, seed=7)\n",
    "\n",
    "# Step 2: Save to preamble.mat with variable name 'ltf' (to match your loader)\n",
    "scipy.io.savemat(\"preamble.mat\", {\"ltf\": ltf_sequence.reshape(-1, 1)})\n",
    "print(\"Saved preamble.mat with variable 'ltf'.\")\n",
    "\n",
    "# Use Cases Below\n",
    "def generate_ltf():\n",
    "    mat = scipy.io.loadmat('preamble.mat')\n",
    "    ltf = mat['ltf'].flatten()  # complex array\n",
    "    return np.tile(ltf, 1)      # repeat 1 times\n",
    "\n",
    "# Step 4: Get the full IQ array\n",
    "iq_samples = generate_ltf()\n",
    "print(f\"IQ samples shape: {iq_samples.shape}\")\n"
   ]
  }
 ],
 "metadata": {
  "kernelspec": {
   "display_name": "Python 3 (ipykernel)",
   "language": "python",
   "name": "python3"
  },
  "language_info": {
   "codemirror_mode": {
    "name": "ipython",
    "version": 3
   },
   "file_extension": ".py",
   "mimetype": "text/x-python",
   "name": "python",
   "nbconvert_exporter": "python",
   "pygments_lexer": "ipython3",
   "version": "3.12.7"
  }
 },
 "nbformat": 4,
 "nbformat_minor": 5
}
